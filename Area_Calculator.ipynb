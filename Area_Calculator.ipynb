{
  "nbformat": 4,
  "nbformat_minor": 0,
  "metadata": {
    "colab": {
      "name": "Area_Calculator",
      "provenance": [],
      "collapsed_sections": [],
      "authorship_tag": "ABX9TyMZS/yvNu/l3EJYEBm/bzov",
      "include_colab_link": true
    },
    "kernelspec": {
      "name": "python3",
      "display_name": "Python 3"
    },
    "language_info": {
      "name": "python"
    }
  },
  "cells": [
    {
      "cell_type": "markdown",
      "metadata": {
        "id": "view-in-github",
        "colab_type": "text"
      },
      "source": [
        "<a href=\"https://colab.research.google.com/github/Cassio-Tieres/Area_Calculator_py/blob/main/Area_Calculator.ipynb\" target=\"_parent\"><img src=\"https://colab.research.google.com/assets/colab-badge.svg\" alt=\"Open In Colab\"/></a>"
      ]
    },
    {
      "cell_type": "code",
      "metadata": {
        "id": "ZDciP8ri3IcB"
      },
      "source": [
        "\n",
        "#Essa função serve para calcular tanto o quadrado quando o paralelograma.\n",
        "def areaQuadParale():\n",
        "  b = int(input('Digite a base: '))\n",
        "  alt = int(input('Digite a altura: '))\n",
        "\n",
        "  a = b * alt\n",
        "\n",
        "  print('A área calculada é igual à: {0}'.format(a))\n",
        "\n",
        "#Essa função calcula a área do triângulo.\n",
        "def areaTriangulo():\n",
        "  b = int(input('Digite a base do triângulo: '))\n",
        "  alt = int(input('Digite a altura do triângulo: '))\n",
        "\n",
        "  a = b * alt / 2\n",
        "  print('A área do triângulo é: {0}'.format(a))\n",
        "\n",
        "#Essa função calcula a área do trapézio (BIRL).\n",
        "def areaTrapezio():\n",
        "  b_maior = int(input('Base maior: '))\n",
        "  b_menor = int(input('Base menor: '))\n",
        "  alt = int(input('Altura: '))\n",
        "\n",
        "  a = (b_maior + b_menor) * alt / 2\n",
        "  print('A área do trapézio é: {0}'.format(a))\n",
        "\n",
        "#Essa função calcula a área do losango.\n",
        "def areaLosango():\n",
        "  d_maior = int(input('Diagonal maior: '))\n",
        "  d_menor = int(input('Diagonal menor: '))\n",
        "\n",
        "  a = d_maior * d_menor / 2\n",
        "  print('A área do losango é: {0}'.format(a))\n",
        "\n",
        "\n",
        "#Área inicial do software.\n",
        "def formulario():\n",
        "  print('Bem-vindo ao Area Calculator')\n",
        "  print('Quadrado, Paralelograma, Triângulo, Trapézio e Losango')\n",
        "  perg = input('O que quer calcular: ').upper()\n",
        "\n",
        "  if perg == \"QUADRADO\":\n",
        "    areaQuadParale()\n",
        "  if perg == \"PARALELOGRAMA\":\n",
        "    areaQuadParale()\n",
        "  if perg == \"TRIÂNGULO\":\n",
        "    areaTriangulo()  \n",
        "  if perg == 'TRAPÉZIO':\n",
        "    areaTrapezio()\n",
        "  if perg == 'LOSANGO':\n",
        "    areaLosango()\n",
        "  \n",
        "\n",
        "formulario()"
      ],
      "execution_count": null,
      "outputs": []
    }
  ]
}